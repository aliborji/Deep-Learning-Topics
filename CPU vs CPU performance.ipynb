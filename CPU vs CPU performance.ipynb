{
 "cells": [
  {
   "cell_type": "code",
   "execution_count": 1,
   "metadata": {
    "scrolled": true
   },
   "outputs": [
    {
     "name": "stdout",
     "output_type": "stream",
     "text": [
      "Todos devices: {'/gpu:0': [], '/cpu:0': []}\n",
      "####### Calculating on the /gpu:0 #######\n",
      "####### Calculating on the /cpu:0 #######\n",
      "{'/gpu:0': [1.8134536743164062, 0.04207348823547363, 0.0555577278137207, 0.07117724418640137, 0.08556389808654785, 0.10094094276428223, 0.12364387512207031], '/cpu:0': [1.5565369129180908, 1.953974962234497, 2.4048702716827393, 3.1582562923431396, 3.8608555793762207, 5.049736499786377, 5.804708003997803]}\n"
     ]
    },
    {
     "data": {
      "image/png": "[encoded data removed]",
      "text/plain": [
       "<matplotlib.figure.Figure at 0x1bc0329b518>"
      ]
     },
     "metadata": {},
     "output_type": "display_data"
    }
   ],
   "source": [
    "from __future__ import print_function\n",
    "import matplotlib\n",
    "import tensorflow as tf\n",
    "import time\n",
    "from tensorflow.python.client import device_lib\n",
    "import numpy as np \n",
    "import matplotlib.pyplot as pplot\n",
    "\n",
    "def get_times(devs, matrix_sizes):\n",
    "    device_times = dict()\n",
    "    \n",
    "    for d in devs:\n",
    "        device_times[d] = []\n",
    "\n",
    "    print(\"Todos devices: %s\" % device_times)\n",
    "    \n",
    "    for device_name in device_times.keys():\n",
    "        print(\"####### Calculating on the \" + device_name + \" #######\")\n",
    "        for size in matrix_sizes:\n",
    "            shape = (size,size)\n",
    "            data_type = tf.float16\n",
    "            with tf.device(device_name):\n",
    "                r1 = tf.random_uniform(shape=shape, minval=0, maxval=1, dtype=data_type)\n",
    "                r2 = tf.random_uniform(shape=shape, minval=0, maxval=1, dtype=data_type)\n",
    "                dot_operation = tf.matmul(r2, r1)\n",
    "                \n",
    "            with tf.Session(config=tf.ConfigProto(log_device_placement=True)) as session:\n",
    "                    start_time = time.time()\n",
    "                    result = session.run(dot_operation)\n",
    "                    time_taken = time.time() - start_time\n",
    "                    device_times[device_name].append(time_taken)\n",
    "#                     print(\"device: %s Size: %s Time: %s\" % (device_name,size, time_taken))\n",
    "    \n",
    "    return device_times\n",
    "\n",
    "# Lista devices disponíveis:\n",
    "# \"/cpu:0\": The CPU of your machine.\n",
    "# \"/gpu:0\": The GPU of your machine, if you have one.\n",
    "# \"/gpu:1\": The second GPU of your machine, etc.\n",
    "    \n",
    "local_devices = device_lib.list_local_devices()\n",
    "devices = [x.name for x in local_devices]\n",
    "matrix_sizes = range(500,850,50)\n",
    "device_times = get_times(devices, matrix_sizes)\n",
    "print(device_times)\n",
    "\n",
    "# Plota resultados\n",
    "pplot.figure()\n",
    "pplot.title(\"Mulitplication Time\")\n",
    "pplot.xlabel('Matrix size')\n",
    "pplot.ylabel('Time')\n",
    "pplot.grid()\n",
    "for d in device_times:\n",
    "    pplot.plot(matrix_sizes[:len(device_times[d])], device_times[d], 'o-', label=d)\n",
    "pplot.legend(loc='center left', bbox_to_anchor=(1, 0.5))\n",
    "pplot.show()\n"
   ]
  },
  {
   "cell_type": "code",
   "execution_count": 2,
   "metadata": {},
   "outputs": [
    {
     "name": "stdout",
     "output_type": "stream",
     "text": [
      "####### Calculating #######\n",
      "Size: 500 Time: 1.3599655628204346\n",
      "Size: 550 Time: 1.8012802600860596\n",
      "Size: 600 Time: 2.4217376708984375\n",
      "Size: 650 Time: 3.029149293899536\n",
      "Size: 700 Time: 3.670607089996338\n",
      "Size: 750 Time: 4.531220436096191\n",
      "Size: 800 Time: 5.456874132156372\n"
     ]
    }
   ],
   "source": [
    "# Testa no device default, sem espeficiar qual device será usado na Session\n",
    "from __future__ import print_function\n",
    "import matplotlib\n",
    "import matplotlib.pyplot as plt\n",
    "import tensorflow as tf\n",
    "import time\n",
    "from tensorflow.python.client import device_lib\n",
    "import numpy as np \n",
    "\n",
    "def get_times(matrix_sizes):\n",
    "    device_times = dict()\n",
    "    device_times[\"teste\"] = []\n",
    "\n",
    "    print(\"####### Calculating #######\")\n",
    "    for size in matrix_sizes:\n",
    "        shape = (size,size)\n",
    "        data_type = tf.float16\n",
    "        r1 = tf.random_uniform(shape=shape, minval=0, maxval=1, dtype=data_type)\n",
    "        r2 = tf.random_uniform(shape=shape, minval=0, maxval=1, dtype=data_type)\n",
    "        dot_operation = tf.matmul(r2, r1)\n",
    "\n",
    "        with tf.Session() as session:\n",
    "            start_time = time.time()\n",
    "            result = session.run(dot_operation)\n",
    "            time_taken = time.time() - start_time\n",
    "            device_times[\"teste\"].append(time_taken)\n",
    "            print(\"Size: %s Time: %s\" % (size, time_taken))\n",
    "\n",
    "    return device_times\n",
    "\n",
    "matrix_sizes = range(500,850,50)\n",
    "device_times = get_times(matrix_sizes)\n"
   ]
  }
 ],
 "metadata": {
  "kernelspec": {
   "display_name": "Python 3",
   "language": "python",
   "name": "python3"
  },
  "language_info": {
   "codemirror_mode": {
    "name": "ipython",
    "version": 3
   },
   "file_extension": ".py",
   "mimetype": "text/x-python",
   "name": "python",
   "nbconvert_exporter": "python",
   "pygments_lexer": "ipython3",
   "version": "3.5.3"
  },
  "varInspector": {
   "cols": {
    "lenName": 16,
    "lenType": 16,
    "lenVar": 40
   },
   "kernels_config": {
    "python": {
     "delete_cmd_postfix": "",
     "delete_cmd_prefix": "del ",
     "library": "var_list.py",
     "varRefreshCmd": "print(var_dic_list())"
    },
    "r": {
     "delete_cmd_postfix": ") ",
     "delete_cmd_prefix": "rm(",
     "library": "var_list.r",
     "varRefreshCmd": "cat(var_dic_list()) "
    }
   },
   "types_to_exclude": [
    "module",
    "function",
    "builtin_function_or_method",
    "instance",
    "_Feature"
   ],
   "window_display": false
  }
 },
 "nbformat": 4,
 "nbformat_minor": 2
}
