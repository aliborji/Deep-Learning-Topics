{
 "cells": [
  {
   "cell_type": "markdown",
   "metadata": {},
   "source": [
    "Linear Regression\n",
    "========="
   ]
  },
  {
   "cell_type": "markdown",
   "metadata": {},
   "source": [
    "# Problem 2\n",
    "\n",
    "* [Problem Description](#problem_description)\n",
    "* [Solution 1: Analytical solution with Least Squares Error minimization](#least-squares-error-minimization)\n",
    "* [Solution 2: Applying Gradient Descent](#gradient_descent)\n",
    "\n",
    "In this problem we will find the best line that fits a given model. For theory details, please see [Linear Regression Theory](Linear_Regression_Theory.ipynb)."
   ]
  },
  {
   "cell_type": "markdown",
   "metadata": {},
   "source": [
    "<a id='problem_description'></a>\n",
    "### Problem Description"
   ]
  },
  {
   "cell_type": "markdown",
   "metadata": {},
   "source": [
    "In this problem we will be using a function that creates a point cloud and we will try to find the best line to fit the data."
   ]
  },
  {
   "cell_type": "code",
   "execution_count": 23,
   "metadata": {},
   "outputs": [
    {
     "name": "stdout",
     "output_type": "stream",
     "text": [
      "1.025\n",
      "1.75\n",
      "[  6.87414427   7.89914427   8.92414427   9.94914427  10.97414427\n",
      "  11.99914427  13.02414427  14.04914427  15.07414427  16.09914427\n",
      "  17.12414427  18.14914427  19.17414427  20.19914427  21.22414427\n",
      "  22.24914427  23.27414427  24.29914427  25.32414427  26.34914427\n",
      "  27.37414427  28.39914427  29.42414427  30.44914427  31.47414427\n",
      "  32.49914427  33.52414427  34.54914427  35.57414427  36.59914427\n",
      "  37.62414427  38.64914427  39.67414427  40.69914427  41.72414427\n",
      "  42.74914427  43.77414427  44.79914427  45.82414427  46.84914427]\n"
     ]
    }
   ],
   "source": [
    "import numpy as np\n",
    "import random\n",
    "\n",
    "def PointCloud(a, b, range):\n",
    "    # Angular coefficient\n",
    "    ang_coef = (a[1]-b[1])/(a[0]-b[0]) \n",
    "    # Linear coefficient\n",
    "    lin_coef = -ang_coef*a[0]+a[1]\n",
    "    print(ang_coef)\n",
    "    print(lin_coef)\n",
    "    \n",
    "    i = np.arange(a[0], b[0], 1)\n",
    "    y = (ang_coef*i)+lin_coef\n",
    "    \n",
    "    j = np.arange(1,4)\n",
    "    r = random.uniform(0, 1)*range+(y-(0.5*range))\n",
    "    print(r)\n",
    "    \n",
    "    \n",
    "    \n",
    "PointCloud([10, 12], [50,53], 15)"
   ]
  },
  {
   "cell_type": "markdown",
   "metadata": {},
   "source": [
    "<a id='least-squares-error-minimization'></a>\n",
    "### Solution 1: Least Squares Error minimization"
   ]
  },
  {
   "cell_type": "code",
   "execution_count": null,
   "metadata": {
    "collapsed": true
   },
   "outputs": [],
   "source": []
  },
  {
   "cell_type": "markdown",
   "metadata": {},
   "source": [
    "<a id='gradient_descent'> </a>\n",
    "### Solution 2: Applying Gradient Descent\n"
   ]
  }
 ],
 "metadata": {
  "kernelspec": {
   "display_name": "Python 3",
   "language": "python",
   "name": "python3"
  },
  "language_info": {
   "codemirror_mode": {
    "name": "ipython",
    "version": 3
   },
   "file_extension": ".py",
   "mimetype": "text/x-python",
   "name": "python",
   "nbconvert_exporter": "python",
   "pygments_lexer": "ipython3",
   "version": "3.5.3"
  },
  "varInspector": {
   "cols": {
    "lenName": 16,
    "lenType": 16,
    "lenVar": 40
   },
   "kernels_config": {
    "python": {
     "delete_cmd_postfix": "",
     "delete_cmd_prefix": "del ",
     "library": "var_list.py",
     "varRefreshCmd": "print(var_dic_list())"
    },
    "r": {
     "delete_cmd_postfix": ") ",
     "delete_cmd_prefix": "rm(",
     "library": "var_list.r",
     "varRefreshCmd": "cat(var_dic_list()) "
    }
   },
   "types_to_exclude": [
    "module",
    "function",
    "builtin_function_or_method",
    "instance",
    "_Feature"
   ],
   "window_display": false
  }
 },
 "nbformat": 4,
 "nbformat_minor": 2
}
