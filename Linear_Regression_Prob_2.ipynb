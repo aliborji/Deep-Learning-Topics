{
 "cells": [
  {
   "cell_type": "markdown",
   "metadata": {},
   "source": [
    "Linear Regression\n",
    "========="
   ]
  },
  {
   "cell_type": "markdown",
   "metadata": {},
   "source": [
    "# Problem 2\n",
    "\n",
    "* [Problem Description](#problem_description)\n",
    "* [Solution 1: Applying Gradient Descent (Keras)](#gradient_descent_keras)\n",
    "* [Solution 2: Applying Gradient Descent (Tensorflow)](#gradient_descent_tensorflow)\n",
    "* [Solution 3: Analytical solution with Least Squares Error minimization](#least-squares-error-minimization)\n",
    "* [Comparing all 3 solutions](#comparing_solutions)\n",
    "\n",
    "In this problem we will find the best line that fits a given model. For theory details, please see [Linear Regression Theory](Linear_Regression_Theory.ipynb)."
   ]
  },
  {
   "cell_type": "markdown",
   "metadata": {},
   "source": [
    "<a id='problem_description'></a>\n",
    "### Problem Description"
   ]
  },
  {
   "cell_type": "markdown",
   "metadata": {},
   "source": [
    "In this problem we will be using a function to create a cloud of points and based on these generated points we will try to find the best line to fit the data."
   ]
  },
  {
   "cell_type": "code",
   "execution_count": 1,
   "metadata": {
    "collapsed": true
   },
   "outputs": [],
   "source": [
    "import numpy as np\n",
    "import random\n",
    "import matplotlib.pyplot as plt\n",
    "\n",
    "'''This function creates a cloud of points in a line specified between two points: initialPoint and finalPoint\n",
    "Input parameters: \n",
    "    initialPoint  : initial point of the line that represents the cloud\n",
    "    finalPoint    : final point of the line that represents the cloud\n",
    "    scatter       : range in y-axis indicating how spread the cloud of points is\n",
    "    multiplicity  : number of points in the cloud for every x point '''\n",
    "def PointsCloud(initialPoint, finalPoint, scatter, multiplicity):\n",
    "    # Angular coefficient\n",
    "    ang_coef = (initialPoint[1]-finalPoint[1])/(initialPoint[0]-finalPoint[0]) \n",
    "    # Linear coefficient\n",
    "    lin_coef = -ang_coef*initialPoint[0]+initialPoint[1]\n",
    "    i = [val for val in np.arange(initialPoint[0], finalPoint[0], 1) for _ in np.arange(0, multiplicity)]\n",
    "    y = [(ang_coef*ii)+lin_coef for ii in i]\n",
    "    random.seed(26051984) # to enable reproducibility\n",
    "    r = [random.uniform(0, 1)*scatter+(yy-(0.5*scatter)) for yy in y]\n",
    "    points = [[i[idx], r[idx]] for idx in range(len(i))]\n",
    "    return points"
   ]
  },
  {
   "cell_type": "markdown",
   "metadata": {},
   "source": [
    "Let's define and visualize our cloud of points using the function above.<p>\n",
    "This function takes a line as input, which will be the base of the generated points. Our line is represented by the connection between the points (10,12) and (50,53). For each point in x-axis it will have 4 points (multiplicity) and 30 will be our scatter value, representing the range in y-axis indicating how vertically spaced the cloud is."
   ]
  },
  {
   "cell_type": "code",
   "execution_count": 2,
   "metadata": {},
   "outputs": [
    {
     "data": {
      "image/png": "[encoded data removed]",
      "text/plain": [
       "<matplotlib.figure.Figure at 0x19904c22e48>"
      ]
     },
     "metadata": {},
     "output_type": "display_data"
    }
   ],
   "source": [
    "# Defining initial and final points\n",
    "initialPoint = (10, 12)\n",
    "finalPoint = (50,53)\n",
    "points = PointsCloud(initialPoint, finalPoint, 30, 4)\n",
    "# Defining x and y\n",
    "x = np.array([i[0] for i in points], dtype=np.float)\n",
    "y = np.array([i[1] for i in points], dtype=np.float)\n",
    "# Plotting points\n",
    "plt.scatter(x, y)\n",
    "plt.xlabel('Height (m)')\n",
    "plt.ylabel('Weight (kg)')\n",
    "plt.show()"
   ]
  },
  {
   "cell_type": "markdown",
   "metadata": {},
   "source": [
    "The goal of this Problem is to **find the best line that fits the points above**. For that, we will use different approaches and compare the results."
   ]
  },
  {
   "cell_type": "markdown",
   "metadata": {},
   "source": [
    "<a id='gradient_descent_keras'> </a>\n",
    "### Solution 1: Applying Gradient Descent (Keras)"
   ]
  },
  {
   "cell_type": "markdown",
   "metadata": {},
   "source": [
    "We could see linear regression as a 1-layer neural network with a **linear activation function ($\\sigma$)**.\n",
    "<img src='figures/lr_with_activation.png'>\n",
    "\n",
    "In this solution we will be using [Tensorflow](https://www.tensorflow.org) with [Keras](https://keras.io/).\n",
    "\n",
    "So, let's create our single-neuron model: "
   ]
  },
  {
   "cell_type": "code",
   "execution_count": 3,
   "metadata": {},
   "outputs": [
    {
     "name": "stderr",
     "output_type": "stream",
     "text": [
      "Using TensorFlow backend.\n"
     ]
    }
   ],
   "source": [
    "import keras \n",
    "from keras.models import Sequential\n",
    "from keras.layers import Dense, Activation\n",
    "from keras.optimizers import SGD\n",
    "# Cleaning sessions previously started\n",
    "keras.backend.clear_session()\n",
    "# Creating our model\n",
    "model = Sequential()\n",
    "model.add(Dense(units=1, input_dim=1, activation='linear', kernel_initializer='zero'))\n",
    "# Using Gradient Descent as optimizer\n",
    "# Obs: When the batch size is equal to the amount of samples, Stochastic Gradient Descent becomes Batch Gradient Descent\n",
    "sgd = SGD(lr=0.2)\n",
    "# Adding the Mean Squared Error loss function and Gradient Descent optimizer to our model\n",
    "model.compile(optimizer=sgd, loss='mean_squared_error')"
   ]
  },
  {
   "cell_type": "markdown",
   "metadata": {},
   "source": [
    "Once our model is created, let's train using the model.fit() function:"
   ]
  },
  {
   "cell_type": "code",
   "execution_count": 4,
   "metadata": {
    "collapsed": true
   },
   "outputs": [],
   "source": [
    "# As we have only one sample and the gradient is updated after every batch passing through the neuron, \n",
    "# let's make our batch longer to avoid having the weights (betas) updated very often.\n",
    "batch_size = 50\n",
    "epochs = 1000\n",
    "# Train our model silently (verbose=0)\n",
    "result = model.fit(x, y, batch_size=batch_size, epochs=epochs, verbose=0)"
   ]
  },
  {
   "cell_type": "markdown",
   "metadata": {},
   "source": [
    "Plotting our loss to see how it dropped throughout the training:"
   ]
  },
  {
   "cell_type": "code",
   "execution_count": 5,
   "metadata": {},
   "outputs": [
    {
     "data": {
      "image/png": "[encoded data removed]",
      "text/plain": [
       "<matplotlib.figure.Figure at 0x1990d0980b8>"
      ]
     },
     "metadata": {},
     "output_type": "display_data"
    }
   ],
   "source": [
    "plt.plot(result.history[\"loss\"])\n",
    "plt.show()"
   ]
  },
  {
   "cell_type": "markdown",
   "metadata": {},
   "source": [
    "**What? Something went very wrong here!** Our results show no error. Let's visualize the first 5 losses:"
   ]
  },
  {
   "cell_type": "code",
   "execution_count": 6,
   "metadata": {},
   "outputs": [
    {
     "data": {
      "text/plain": [
       "[2.2750866550544314e+17, inf, inf, inf, nan]"
      ]
     },
     "execution_count": 6,
     "metadata": {},
     "output_type": "execute_result"
    }
   ],
   "source": [
    "result.history[\"loss\"][0:5]"
   ]
  },
  {
   "cell_type": "markdown",
   "metadata": {},
   "source": [
    "As seen above, keras only recorded the first epoch error. The other values are either 'Inf' (infinite) or 'Nan' (not a number), meaning an overflow occurred.<br>\n",
    "We did not normalize our data and sometimes the gradient explodes when we don't normalize our data. Notice that the error in our first epoch was very high (e+17) and then it went to infinite.<br>\n",
    "In order to overcome this problem let's normalize our data. Below we will repeat the whole process with our normalized data."
   ]
  },
  {
   "cell_type": "code",
   "execution_count": 7,
   "metadata": {},
   "outputs": [
    {
     "data": {
      "image/png": "[encoded data removed]",
      "text/plain": [
       "<matplotlib.figure.Figure at 0x19973831e80>"
      ]
     },
     "metadata": {},
     "output_type": "display_data"
    }
   ],
   "source": [
    "# Normalizing the data\n",
    "x_norm = x\n",
    "y_norm = y\n",
    "x_norm -= x_norm.min()\n",
    "x_norm /= x_norm.max()   \n",
    "y_norm -= y_norm.min()\n",
    "y_norm /= y_norm.max()\n",
    "# Cleaning sessions previously started\n",
    "keras.backend.clear_session()\n",
    "# Creating our model\n",
    "model = Sequential()\n",
    "model.add(Dense(units=1, input_dim=1, activation='linear', kernel_initializer='zero'))\n",
    "# Using Gradient Descent as optimizer\n",
    "sgd = SGD(lr=0.2)\n",
    "# Adding the Mean Squared Error loss function and Gradient Descent optimizer to our model\n",
    "model.compile(optimizer=sgd, loss='mean_squared_error')\n",
    "# Train\n",
    "batch_size = 50\n",
    "epochs = 1000\n",
    "# Train with our normalized data\n",
    "result = model.fit(x_norm, y_norm, batch_size=batch_size, epochs=epochs, verbose=0)\n",
    "# Plot our MSE\n",
    "plt.plot(result.history[\"loss\"])\n",
    "plt.show()"
   ]
  },
  {
   "cell_type": "markdown",
   "metadata": {},
   "source": [
    "Now we have our model trained, we'll measure our erros, see the parameters we found (beta_0 and beta_1) and plot the line."
   ]
  },
  {
   "cell_type": "code",
   "execution_count": 8,
   "metadata": {},
   "outputs": [
    {
     "name": "stdout",
     "output_type": "stream",
     "text": [
      "beta_0: 0.163225\n",
      "beta_1: 0.606449 \n",
      "Least Squares Eror: 3.02362877583\n",
      "Mean Squared Eror: 0.0188976809382\n"
     ]
    },
    {
     "data": {
      "image/png": "[encoded data removed]",
      "text/plain": [
       "<matplotlib.figure.Figure at 0x199770881d0>"
      ]
     },
     "metadata": {},
     "output_type": "display_data"
    }
   ],
   "source": [
    "# Get beta_0 and beta_1\n",
    "[beta_1, beta_0] = model.get_weights()\n",
    "beta_1 = beta_1[0] #Keras returns our beta_1 as a vector\n",
    "print(\"beta_0: %s\" % beta_0[0])\n",
    "print(\"beta_1: %s \" % beta_1[0])\n",
    "# Measure errors\n",
    "mse = model.evaluate(x_norm, y_norm, verbose = 0)\n",
    "# mse = np.mean(np.square(y - (beta_0 + np.multiply(beta_1,x)))) could also be calculated directly with our equation\n",
    "lse = np.sum(np.square(y_norm - (beta_0 + np.multiply(beta_1,x_norm))))\n",
    "print('Least Squares Eror: %s' % lse)\n",
    "print('Mean Squared Eror: %s' % mse)\n",
    "# Plotting\n",
    "y_min = beta_0 + (beta_1*np.min(x_norm))\n",
    "y_max = beta_0 + (beta_1*np.max(x_norm))\n",
    "plt.scatter(x_norm, y_norm)\n",
    "plt.xlabel('Height (m)')\n",
    "plt.ylabel('Weight (kg)')\n",
    "plt.plot([np.min(x_norm),np.max(x_norm)], [y_min,y_max],c='r')\n",
    "plt.show()"
   ]
  },
  {
   "cell_type": "markdown",
   "metadata": {},
   "source": [
    "I encourage you to train with different epochs. Notice the more we train, the less our errors get.<p>\n",
    "If you train with 10000 epochs, you will obtain the following results: <br>\n",
    "beta_0: 0.16777468<br>\n",
    "beta_1: 0.61720169<br>\n",
    "Least Squares Eror: 2.99910858853<br>\n",
    "Mean Squared Eror: 0.0187444284558"
   ]
  },
  {
   "cell_type": "markdown",
   "metadata": {},
   "source": [
    "<a id='gradient_descent_tensorflow'> </a>\n",
    "### Solution 2: Applying Gradient Descent (Tensorflow)"
   ]
  },
  {
   "cell_type": "markdown",
   "metadata": {},
   "source": [
    "Let's find our solution directly with Tensorflow. First let's import the packages we will use:"
   ]
  },
  {
   "cell_type": "code",
   "execution_count": 9,
   "metadata": {
    "collapsed": true
   },
   "outputs": [],
   "source": [
    "import tensorflow as tf\n",
    "# This is a .py file to with useful functions\n",
    "from utils import show_graph\n",
    "import matplotlib.pyplot as plt\n",
    "import os\n",
    "import numpy as np\n",
    "import pandas as pd\n",
    "import numpy.random as rand\n",
    "# To enable reproducibility\n",
    "rand.seed(26051984)"
   ]
  },
  {
   "cell_type": "markdown",
   "metadata": {},
   "source": [
    "Defining our graph:"
   ]
  },
  {
   "cell_type": "code",
   "execution_count": 10,
   "metadata": {},
   "outputs": [],
   "source": [
    "tf.reset_default_graph()\n",
    "# Defining variables to be updated during training\n",
    "betas = tf.Variable(np.zeros((2,1), np.float64)) # initializing beta_0 as 0 and beta_1 as 0\n",
    "Xb = np.hstack([np.ones(shape=(len(x_norm),1)), np.reshape(x_norm, (len(x_norm),1))])\n",
    "Yb = np.reshape(y_norm,(len(y_norm),1))\n",
    "# Input is constant (it will never be changed)\n",
    "x_const = tf.constant(Xb)\n",
    "# Output is also a constant\n",
    "y_const = tf.constant(Yb)\n",
    "# Defining our output\n",
    "output = tf.matmul(x_const,betas)\n",
    "error = output-y_const\n",
    "mse = tf.reduce_mean(tf.square(error))\n",
    "lse = tf.reduce_sum(tf.square(error))\n",
    "optimizer = tf.train.GradientDescentOptimizer(learning_rate=0.1).minimize(mse)"
   ]
  },
  {
   "cell_type": "markdown",
   "metadata": {},
   "source": [
    "Now let's run our graph and plot our results:"
   ]
  },
  {
   "cell_type": "code",
   "execution_count": 11,
   "metadata": {},
   "outputs": [
    {
     "name": "stdout",
     "output_type": "stream",
     "text": [
      "Epoch 0 MSE = 0.170857409193 LSE = 27.3371854708\n",
      "beta_0: 0.173145229628\n",
      "beta_1: 0.611950453073 \n"
     ]
    }
   ],
   "source": [
    "num_epochs = 1000\n",
    "learning_rate = 0.2\n",
    "\n",
    "# Creating our session\n",
    "with tf.Session() as session:\n",
    "    # Initializing our variables\n",
    "    session.run(tf.global_variables_initializer())\n",
    "    for epoch in range(num_epochs):\n",
    "        # Run our graph\n",
    "        out = session.run(optimizer)\n",
    "        best_betas = betas.eval()\n",
    "        # Calculate error every 1000 epochs\n",
    "        if epoch % 1000 == 0:\n",
    "            print(\"Epoch %s MSE = %s LSE = %s\" %(epoch, mse.eval(), lse.eval()))\n",
    "\n",
    "# Getting beta 0 and beta 1\n",
    "beta_0 = best_betas[0][0]\n",
    "beta_1 = best_betas[1][0]\n",
    "# Printing results\n",
    "print(\"beta_0: %s\" % beta_0)\n",
    "print(\"beta_1: %s \" % beta_1)"
   ]
  },
  {
   "cell_type": "markdown",
   "metadata": {},
   "source": [
    "If we make our training with 10000 epochs, we will notice our errors will drop significantly. With 10000 epochs, these are the results we will get:<br>\n",
    "Epoch 9000 MSE = 0.0187344786198 LSE = 2.99751657917<br>\n",
    "beta_0: 0.173145032501<br>\n",
    "beta_1: 0.6119508201"
   ]
  },
  {
   "cell_type": "markdown",
   "metadata": {},
   "source": [
    "<a id='least-squares-error-minimization'></a>\n",
    "### Solution 3: Least Squares Error minimization"
   ]
  },
  {
   "cell_type": "markdown",
   "metadata": {
    "collapsed": true
   },
   "source": [
    "Now it is time to compare our results above with our analytic solution. You can check the theory at [Linear Regression Theory](Linear_Regression_Theory.ipynb).<br>\n",
    "The line that best fits our model is given by:\n",
    "\n",
    "$$\\begin{align*} \n",
    "\\boxed{y = \\beta_0 + \\beta_1 x \\text{ , where }\n",
    "            \\left\\{\n",
    "                \\begin{array}{ll}\n",
    "                  \\beta_0 = \\bar{y} - \\beta_1\\bar{x}\\\\\n",
    "                  \\beta_1 = \\frac{\\sum_{i=1}^N \\left(x_i - \\bar{x}\\right)\\left(y_i - \\bar{y}\\right)}{\\sum_{i=1}^N \\left(x_i - \\bar{x}\\right)^2}\n",
    "                \\end{array}\\right.}\n",
    "\\end{align*} $$\n",
    "\n",
    "Using NumPy, let's find $\\beta_0$ and $\\beta_1$."
   ]
  },
  {
   "cell_type": "code",
   "execution_count": 12,
   "metadata": {},
   "outputs": [
    {
     "name": "stdout",
     "output_type": "stream",
     "text": [
      "beta_0: 0.173145032501\n",
      "beta_1: 0.6119508201 \n"
     ]
    }
   ],
   "source": [
    "# Finding y and x means\n",
    "y_mean = np.mean(y_norm)\n",
    "x_mean = np.mean(x_norm)\n",
    "# Finding beta_1 and beta_0\n",
    "beta_1 = np.sum((x_norm-x_mean)*(y_norm-y_mean))/np.sum(np.square(x_norm-x_mean))\n",
    "beta_0 = y_mean - (beta_1*x_mean)\n",
    "print(\"beta_0: %s\" % beta_0)\n",
    "print(\"beta_1: %s \" % beta_1)"
   ]
  },
  {
   "cell_type": "markdown",
   "metadata": {},
   "source": [
    "The equation of our line is: $$y = 0.1731 + 0.6119 x$$\n",
    "Let's plot our line:"
   ]
  },
  {
   "cell_type": "code",
   "execution_count": 13,
   "metadata": {},
   "outputs": [
    {
     "data": {
      "image/png": "[encoded data removed]",
      "text/plain": [
       "<matplotlib.figure.Figure at 0x1997247c630>"
      ]
     },
     "metadata": {},
     "output_type": "display_data"
    }
   ],
   "source": [
    "# Finding the extreme y coordinates for our line\n",
    "y_min = beta_0 + (beta_1*np.min(x_norm))\n",
    "y_max = beta_0 + (beta_1*np.max(x_norm))\n",
    "# Plotting:\n",
    "plt.scatter(x_norm, y_norm)\n",
    "plt.xlabel('Height (m)')\n",
    "plt.ylabel('Weight (kg)')\n",
    "plt.plot([np.min(x_norm),np.max(x_norm)], [y_min,y_max],c='r')\n",
    "plt.show()"
   ]
  },
  {
   "cell_type": "markdown",
   "metadata": {},
   "source": [
    "Calculating **Least Squares Error** and **Mean Squared Error**:"
   ]
  },
  {
   "cell_type": "code",
   "execution_count": 14,
   "metadata": {},
   "outputs": [
    {
     "name": "stdout",
     "output_type": "stream",
     "text": [
      "Least Squares Error: 2.99751657917\n",
      "Mean Squared Error: 0.0187344786198\n"
     ]
    }
   ],
   "source": [
    "lse = np.sum(np.square(y_norm - (beta_0 + np.multiply(beta_1,x_norm))))\n",
    "mse = np.mean(np.square(y_norm - (beta_0 + np.multiply(beta_1,x_norm))))\n",
    "\n",
    "print('Least Squares Error: %s' % lse)\n",
    "print('Mean Squared Error: %s' % mse)"
   ]
  },
  {
   "cell_type": "markdown",
   "metadata": {},
   "source": [
    "These are the least possible errors. There is no other line that can achieve lower errors."
   ]
  },
  {
   "cell_type": "markdown",
   "metadata": {},
   "source": [
    "<a id='comparing_solutions'></a>\n",
    "### Comparing Solutions"
   ]
  },
  {
   "cell_type": "markdown",
   "metadata": {},
   "source": [
    "The table below shows a comparisson among the 3 approaches used to solve this problem."
   ]
  },
  {
   "cell_type": "code",
   "execution_count": 15,
   "metadata": {},
   "outputs": [
    {
     "data": {
      "text/html": [
       "<style  type=\"text/css\" >\n",
       "    #T_fff5fc92_8e8c_11e7_809e_5cc9d35574d3row0_col0 {\n",
       "            text-align:  center;\n",
       "        }    #T_fff5fc92_8e8c_11e7_809e_5cc9d35574d3row0_col1 {\n",
       "            text-align:  center;\n",
       "        }    #T_fff5fc92_8e8c_11e7_809e_5cc9d35574d3row0_col2 {\n",
       "            text-align:  center;\n",
       "        }    #T_fff5fc92_8e8c_11e7_809e_5cc9d35574d3row0_col3 {\n",
       "            text-align:  center;\n",
       "        }    #T_fff5fc92_8e8c_11e7_809e_5cc9d35574d3row1_col0 {\n",
       "            text-align:  center;\n",
       "        }    #T_fff5fc92_8e8c_11e7_809e_5cc9d35574d3row1_col1 {\n",
       "            text-align:  center;\n",
       "        }    #T_fff5fc92_8e8c_11e7_809e_5cc9d35574d3row1_col2 {\n",
       "            text-align:  center;\n",
       "        }    #T_fff5fc92_8e8c_11e7_809e_5cc9d35574d3row1_col3 {\n",
       "            text-align:  center;\n",
       "        }    #T_fff5fc92_8e8c_11e7_809e_5cc9d35574d3row2_col0 {\n",
       "            text-align:  center;\n",
       "        }    #T_fff5fc92_8e8c_11e7_809e_5cc9d35574d3row2_col1 {\n",
       "            text-align:  center;\n",
       "        }    #T_fff5fc92_8e8c_11e7_809e_5cc9d35574d3row2_col2 {\n",
       "            text-align:  center;\n",
       "        }    #T_fff5fc92_8e8c_11e7_809e_5cc9d35574d3row2_col3 {\n",
       "            text-align:  center;\n",
       "        }    #T_fff5fc92_8e8c_11e7_809e_5cc9d35574d3row3_col0 {\n",
       "            text-align:  center;\n",
       "        }    #T_fff5fc92_8e8c_11e7_809e_5cc9d35574d3row3_col1 {\n",
       "            text-align:  center;\n",
       "        }    #T_fff5fc92_8e8c_11e7_809e_5cc9d35574d3row3_col2 {\n",
       "            text-align:  center;\n",
       "        }    #T_fff5fc92_8e8c_11e7_809e_5cc9d35574d3row3_col3 {\n",
       "            text-align:  center;\n",
       "        }    #T_fff5fc92_8e8c_11e7_809e_5cc9d35574d3row4_col0 {\n",
       "            text-align:  center;\n",
       "        }    #T_fff5fc92_8e8c_11e7_809e_5cc9d35574d3row4_col1 {\n",
       "            text-align:  center;\n",
       "        }    #T_fff5fc92_8e8c_11e7_809e_5cc9d35574d3row4_col2 {\n",
       "            text-align:  center;\n",
       "        }    #T_fff5fc92_8e8c_11e7_809e_5cc9d35574d3row4_col3 {\n",
       "            text-align:  center;\n",
       "        }</style>  \n",
       "<table id=\"T_fff5fc92_8e8c_11e7_809e_5cc9d35574d3\" > \n",
       "<thead>    <tr> \n",
       "        <th class=\"blank level0\" ></th> \n",
       "        <th class=\"col_heading level0 col0\" >Least Squared Error</th> \n",
       "        <th class=\"col_heading level0 col1\" >Mean Squared Error</th> \n",
       "        <th class=\"col_heading level0 col2\" >beta_0</th> \n",
       "        <th class=\"col_heading level0 col3\" >beta_1</th> \n",
       "    </tr></thead> \n",
       "<tbody>    <tr> \n",
       "        <th id=\"T_fff5fc92_8e8c_11e7_809e_5cc9d35574d3\" class=\"row_heading level0 row0\" >Analytic Solution (reference)</th> \n",
       "        <td id=\"T_fff5fc92_8e8c_11e7_809e_5cc9d35574d3row0_col0\" class=\"data row0 col0\" >2.99752</td> \n",
       "        <td id=\"T_fff5fc92_8e8c_11e7_809e_5cc9d35574d3row0_col1\" class=\"data row0 col1\" >0.0187345</td> \n",
       "        <td id=\"T_fff5fc92_8e8c_11e7_809e_5cc9d35574d3row0_col2\" class=\"data row0 col2\" >0.173145</td> \n",
       "        <td id=\"T_fff5fc92_8e8c_11e7_809e_5cc9d35574d3row0_col3\" class=\"data row0 col3\" >0.611951</td> \n",
       "    </tr>    <tr> \n",
       "        <th id=\"T_fff5fc92_8e8c_11e7_809e_5cc9d35574d3\" class=\"row_heading level0 row1\" >Keras (1000 epochs)</th> \n",
       "        <td id=\"T_fff5fc92_8e8c_11e7_809e_5cc9d35574d3row1_col0\" class=\"data row1 col0\" >2.99943</td> \n",
       "        <td id=\"T_fff5fc92_8e8c_11e7_809e_5cc9d35574d3row1_col1\" class=\"data row1 col1\" >0.0187464</td> \n",
       "        <td id=\"T_fff5fc92_8e8c_11e7_809e_5cc9d35574d3row1_col2\" class=\"data row1 col2\" >0.171156</td> \n",
       "        <td id=\"T_fff5fc92_8e8c_11e7_809e_5cc9d35574d3row1_col3\" class=\"data row1 col3\" >0.609212</td> \n",
       "    </tr>    <tr> \n",
       "        <th id=\"T_fff5fc92_8e8c_11e7_809e_5cc9d35574d3\" class=\"row_heading level0 row2\" >Keras (10000 epochs)</th> \n",
       "        <td id=\"T_fff5fc92_8e8c_11e7_809e_5cc9d35574d3row2_col0\" class=\"data row2 col0\" >2.99911</td> \n",
       "        <td id=\"T_fff5fc92_8e8c_11e7_809e_5cc9d35574d3row2_col1\" class=\"data row2 col1\" >0.0187444</td> \n",
       "        <td id=\"T_fff5fc92_8e8c_11e7_809e_5cc9d35574d3row2_col2\" class=\"data row2 col2\" >0.167775</td> \n",
       "        <td id=\"T_fff5fc92_8e8c_11e7_809e_5cc9d35574d3row2_col3\" class=\"data row2 col3\" >0.617202</td> \n",
       "    </tr>    <tr> \n",
       "        <th id=\"T_fff5fc92_8e8c_11e7_809e_5cc9d35574d3\" class=\"row_heading level0 row3\" >Tensorflow (1000 epochs)</th> \n",
       "        <td id=\"T_fff5fc92_8e8c_11e7_809e_5cc9d35574d3row3_col0\" class=\"data row3 col0\" >27.3372</td> \n",
       "        <td id=\"T_fff5fc92_8e8c_11e7_809e_5cc9d35574d3row3_col1\" class=\"data row3 col1\" >0.170857</td> \n",
       "        <td id=\"T_fff5fc92_8e8c_11e7_809e_5cc9d35574d3row3_col2\" class=\"data row3 col2\" >0.173145</td> \n",
       "        <td id=\"T_fff5fc92_8e8c_11e7_809e_5cc9d35574d3row3_col3\" class=\"data row3 col3\" >0.61195</td> \n",
       "    </tr>    <tr> \n",
       "        <th id=\"T_fff5fc92_8e8c_11e7_809e_5cc9d35574d3\" class=\"row_heading level0 row4\" >Tensorflow (10000 epochs)</th> \n",
       "        <td id=\"T_fff5fc92_8e8c_11e7_809e_5cc9d35574d3row4_col0\" class=\"data row4 col0\" >2.99752</td> \n",
       "        <td id=\"T_fff5fc92_8e8c_11e7_809e_5cc9d35574d3row4_col1\" class=\"data row4 col1\" >0.0187345</td> \n",
       "        <td id=\"T_fff5fc92_8e8c_11e7_809e_5cc9d35574d3row4_col2\" class=\"data row4 col2\" >0.173145</td> \n",
       "        <td id=\"T_fff5fc92_8e8c_11e7_809e_5cc9d35574d3row4_col3\" class=\"data row4 col3\" >0.611951</td> \n",
       "    </tr></tbody> \n",
       "</table> "
      ],
      "text/plain": [
       "<pandas.io.formats.style.Styler at 0x1997f0cc908>"
      ]
     },
     "execution_count": 15,
     "metadata": {},
     "output_type": "execute_result"
    }
   ],
   "source": [
    "import pandas as pd\n",
    "# The annotated results\n",
    "analytic_solution = {'Mean Squared Error': 0.0187344786198, 'Least Squared Error': 2.99751657917, 'beta_0': 0.173145032501, 'beta_1': 0.6119508201 }\n",
    "keras_1k = {'Mean Squared Error': 0.0187464144081, 'Least Squared Error': 2.99942620921, 'beta_0': 0.17115624, 'beta_1': 0.60921186 }\n",
    "keras_10k = {'Mean Squared Error': 0.0187444284558, 'Least Squared Error': 2.99910858853, 'beta_0': 0.16777468, 'beta_1': 0.61720169 }\n",
    "tensorflow_1k = {'Mean Squared Error': 0.170857409193, 'Least Squared Error': 27.3371854708, 'beta_0': 0.173145229628, 'beta_1': 0.611950453073 }\n",
    "tensorflow_10k = {'Mean Squared Error': 0.0187344786198, 'Least Squared Error': 2.99751657917, 'beta_0': 0.173145032501, 'beta_1': 0.6119508201 }\n",
    "# Columns\n",
    "index=['Analytic Solution (reference)', 'Keras (1000 epochs)', 'Keras (10000 epochs)', 'Tensorflow (1000 epochs)', 'Tensorflow (10000 epochs)']\n",
    "# Showing with panda\n",
    "data = [analytic_solution, keras_1k, keras_10k, tensorflow_1k, tensorflow_10k]\n",
    "df = pd.DataFrame(data, index)\n",
    "df.style.set_properties(**{'text-align': 'center'})"
   ]
  },
  {
   "cell_type": "markdown",
   "metadata": {},
   "source": [
    "As we can see, the analytic solution is the one that has the least errors. And the more we train, the better our **Linear Regression** model gets."
   ]
  }
 ],
 "metadata": {
  "kernelspec": {
   "display_name": "Python 3",
   "language": "python",
   "name": "python3"
  },
  "language_info": {
   "codemirror_mode": {
    "name": "ipython",
    "version": 3
   },
   "file_extension": ".py",
   "mimetype": "text/x-python",
   "name": "python",
   "nbconvert_exporter": "python",
   "pygments_lexer": "ipython3",
   "version": "3.5.3"
  },
  "varInspector": {
   "cols": {
    "lenName": 16,
    "lenType": 16,
    "lenVar": 40
   },
   "kernels_config": {
    "python": {
     "delete_cmd_postfix": "",
     "delete_cmd_prefix": "del ",
     "library": "var_list.py",
     "varRefreshCmd": "print(var_dic_list())"
    },
    "r": {
     "delete_cmd_postfix": ") ",
     "delete_cmd_prefix": "rm(",
     "library": "var_list.r",
     "varRefreshCmd": "cat(var_dic_list()) "
    }
   },
   "types_to_exclude": [
    "module",
    "function",
    "builtin_function_or_method",
    "instance",
    "_Feature"
   ],
   "window_display": false
  }
 },
 "nbformat": 4,
 "nbformat_minor": 2
}
