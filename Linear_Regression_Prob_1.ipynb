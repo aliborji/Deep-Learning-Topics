{
 "cells": [
  {
   "cell_type": "markdown",
   "metadata": {},
   "source": [
    "Linear Regression\n",
    "========="
   ]
  },
  {
   "cell_type": "markdown",
   "metadata": {},
   "source": [
    "# Problem 1\n",
    "\n",
    "* [Problem Description](#problem_description)\n",
    "* [Solution 1: Analytical solution with Least Squares Error minimization](#least-squares-error-minimization)\n",
    "* [Solution 2: Applying Gradient Descent (Keras)](#gradient_descent_keras)\n",
    "* [Solution 3: Applying Gradient Descent (Tensorflow)](#gradient_descent_tensorflow)\n",
    "\n",
    "In this problem we will find the best line that fits a given model. For theory details, please see [Linear Regression Theory](Linear_Regression_Theory.ipynb)."
   ]
  },
  {
   "cell_type": "markdown",
   "metadata": {},
   "source": [
    "<a id='problem_description'></a>\n",
    "### Problem Description"
   ]
  },
  {
   "cell_type": "markdown",
   "metadata": {},
   "source": [
    "Consider we have a set of data representing the height (in meters) and weight (in kg) of 15 people:"
   ]
  },
  {
   "cell_type": "code",
   "execution_count": 1,
   "metadata": {
    "collapsed": true
   },
   "outputs": [],
   "source": [
    "height = [1.47, 1.50, 1.52, 1.55, 1.57, 1.60, 1.63, 1.65, 1.68, 1.70, 1.73, 1.75, 1.78, 1.80, 1.83]\n",
    "weight = [52.21, 53.12, 54.48, 55.84, 57.20, 58.57, 59.93, 61.29, 63.11, 64.47, 66.28, 68.10, 69.92, 72.19, 74.46]"
   ]
  },
  {
   "cell_type": "markdown",
   "metadata": {},
   "source": [
    "Suppose our height is our **dependent variable** and the weight is our **independent variable** Let's plot them:"
   ]
  },
  {
   "cell_type": "code",
   "execution_count": 2,
   "metadata": {
    "scrolled": true
   },
   "outputs": [
    {
     "data": {
      "image/png": "[encoded data removed]",
      "text/plain": [
       "<matplotlib.figure.Figure at 0x1ca91cd86a0>"
      ]
     },
     "metadata": {},
     "output_type": "display_data"
    }
   ],
   "source": [
    "import matplotlib.pyplot as plt\n",
    "\n",
    "plt.scatter(height, weight)\n",
    "plt.xlabel('Height (m)')\n",
    "plt.ylabel('Weight (kg)')\n",
    "plt.show()"
   ]
  },
  {
   "cell_type": "markdown",
   "metadata": {},
   "source": [
    "As we can see, there is a positive correlation between the height and the weight of these people and we could approximate our data with a model represented by a straight line. There are many applications for approximating our points by a line, for example:\n",
    "* Instead of storing all these points, we could save memory keeping only the parameters of a straight line.\n",
    "* With a straight line we could predict the weight of someone given his/her height. \n",
    "\n",
    "In this notebook we will find the best fitting line using different approaches that are described in following sections."
   ]
  },
  {
   "cell_type": "markdown",
   "metadata": {},
   "source": [
    "<a id='least-squares-error-minimization'></a>\n",
    "### Solution 1: Least Squares Error minimization\n",
    "\n",
    "As already demonstrated in [Linear Regression Theory](Linear_Regression_Theory.ipynb), the line that best fits our model is given by:\n",
    "\n",
    "$$\\begin{align*} \n",
    "\\boxed{y = \\beta_0 + \\beta_1 x \\text{ , where }\n",
    "            \\left\\{\n",
    "                \\begin{array}{ll}\n",
    "                  \\beta_0 = \\bar{y} - \\beta_1\\bar{x}\\\\\n",
    "                  \\beta_1 = \\frac{\\sum_{i=1}^N \\left(x_i - \\bar{x}\\right)\\left(y_i - \\bar{y}\\right)}{\\sum_{i=1}^N \\left(x_i - \\bar{x}\\right)^2}\n",
    "                \\end{array}\\right.}\n",
    "\\end{align*} $$\n",
    "\n",
    "Let's get a little help from NumPy to find $\\beta_0$ and $\\beta_1$."
   ]
  },
  {
   "cell_type": "code",
   "execution_count": 3,
   "metadata": {
    "scrolled": true
   },
   "outputs": [
    {
     "name": "stdout",
     "output_type": "stream",
     "text": [
      "beta_0: -39.0619559188\n",
      "beta_1: 61.2721865421 \n"
     ]
    }
   ],
   "source": [
    "import numpy as np\n",
    "\n",
    "# Defining x and y\n",
    "x = height\n",
    "y = weight\n",
    "# Finding y and x means\n",
    "y_mean = np.mean(y)\n",
    "x_mean = np.mean(x)\n",
    "# Finding beta_1 and beta_0\n",
    "beta_1 = np.sum((x-x_mean)*(y-y_mean))/np.sum(np.square(x-x_mean))\n",
    "beta_0 = y_mean - (beta_1*x_mean)\n",
    "print(\"beta_0: %s\" % beta_0)\n",
    "print(\"beta_1: %s \" % beta_1)"
   ]
  },
  {
   "cell_type": "markdown",
   "metadata": {},
   "source": [
    "The equation of our line is: $$y = -39.0619 + 61.2721 x$$\n",
    "\n",
    "Let's plot our line:"
   ]
  },
  {
   "cell_type": "code",
   "execution_count": 4,
   "metadata": {},
   "outputs": [
    {
     "data": {
      "image/png": "[encoded data removed]",
      "text/plain": [
       "<matplotlib.figure.Figure at 0x1ca91fa9160>"
      ]
     },
     "metadata": {},
     "output_type": "display_data"
    }
   ],
   "source": [
    "# Finding the extreme y coordinates for our line\n",
    "y_min = beta_0 + (beta_1*np.min(x))\n",
    "y_max = beta_0 + (beta_1*np.max(x))\n",
    "\n",
    "plt.scatter(x, y)\n",
    "plt.xlabel('Height (m)')\n",
    "plt.ylabel('Weight (kg)')\n",
    "plt.plot([np.min(x),np.max(x)], [y_min,y_max],c='r')\n",
    "plt.show()"
   ]
  },
  {
   "cell_type": "markdown",
   "metadata": {},
   "source": [
    "<a id='error_lr'></a>\n",
    "As we can see in the graph above that the line seems to be a good model to representation of our data.\n",
    "\n",
    "You may wonder how much error (loss) we have in this model. So, let's calculate the total error using the equation [2] from [Linear Regression Theory](Linear_Regression_Theory.ipynb):\n",
    "\n",
    "$$E = \\sum_{i=1}^N (e_i)^2 = \\sum_{i=1}^N (y_i-f(x_i, \\beta))^2$$"
   ]
  },
  {
   "cell_type": "code",
   "execution_count": 5,
   "metadata": {},
   "outputs": [
    {
     "name": "stdout",
     "output_type": "stream",
     "text": [
      "Error: 7.49055840388\n"
     ]
    }
   ],
   "source": [
    "error = np.sum(np.square(y - (beta_0 + np.multiply(beta_1,x))))\n",
    "print(\"Error: %s\" % error)"
   ]
  },
  {
   "cell_type": "markdown",
   "metadata": {},
   "source": [
    "As our line is the **best fitting line**, this is the minimal possible error."
   ]
  },
  {
   "cell_type": "markdown",
   "metadata": {},
   "source": [
    "<a id='gradient_descent_keras'> </a>\n",
    "### Solution 2: Applying Gradient Descent (Keras)\n",
    "\n",
    "We could see linear regression as a 1-layer neural network with a **linear activation function ($\\sigma$)**.\n",
    "<img src='figures/lr_with_activation.png'>\n",
    "\n",
    "In this solution we will be using [Tensorflow](https://www.tensorflow.org) with [Keras](https://keras.io/).\n",
    "\n",
    "So, let's create our single-neuron model: "
   ]
  },
  {
   "cell_type": "code",
   "execution_count": 6,
   "metadata": {},
   "outputs": [
    {
     "name": "stderr",
     "output_type": "stream",
     "text": [
      "Using TensorFlow backend.\n"
     ]
    }
   ],
   "source": [
    "import keras \n",
    "from keras.models import Sequential\n",
    "from keras.layers import Dense, Activation\n",
    "from keras.optimizers import SGD\n",
    "# Cleaning sessions previously started\n",
    "keras.backend.clear_session()\n",
    "# Creating our model\n",
    "model = Sequential()\n",
    "model.add(Dense(units=1, input_dim=1, activation='linear', kernel_initializer='zero'))\n",
    "# Using Gradient Descent as optimizer\n",
    "# Obs: When the batch size is equal to the amount of samples, Stochastic Gradient Descent becomes Batch Gradient Descent\n",
    "sgd = SGD(lr=0.2)\n",
    "# Adding the Mean Squared Error loss function and Gradient Descent optimizer to our model\n",
    "model.compile(optimizer=sgd, loss='mean_squared_error')"
   ]
  },
  {
   "cell_type": "markdown",
   "metadata": {},
   "source": [
    "Once our model is created, let's train using the model.fit() function:"
   ]
  },
  {
   "cell_type": "code",
   "execution_count": 7,
   "metadata": {},
   "outputs": [],
   "source": [
    "# As we have only one sample and the gradient is updated after every batch passing through the neuron, \n",
    "# let's make our batch longer to avoid having the weights (betas) updated very often.\n",
    "batch_size = 50\n",
    "epochs = 1000\n",
    "# Train our model silently (verbose=0)\n",
    "result = model.fit(x, y, batch_size=batch_size, epochs=epochs, verbose=0)"
   ]
  },
  {
   "cell_type": "markdown",
   "metadata": {},
   "source": [
    "Plotting our loss to see how it dropped along the training:"
   ]
  },
  {
   "cell_type": "code",
   "execution_count": 8,
   "metadata": {},
   "outputs": [
    {
     "data": {
      "image/png": "[encoded data removed]",
      "text/plain": [
       "<matplotlib.figure.Figure at 0x1ca99614160>"
      ]
     },
     "metadata": {},
     "output_type": "display_data"
    }
   ],
   "source": [
    "plt.plot(result.history[\"loss\"])\n",
    "plt.show()"
   ]
  },
  {
   "cell_type": "markdown",
   "metadata": {},
   "source": [
    "Let's measure our final loss, get the weights ($\\beta_0$ and $\\beta_1$) and plot our line:"
   ]
  },
  {
   "cell_type": "code",
   "execution_count": 9,
   "metadata": {},
   "outputs": [
    {
     "name": "stdout",
     "output_type": "stream",
     "text": [
      "Mean Squared Eror: 1.51488804817\n",
      "beta_0: [-23.9581356]\n",
      "beta_1: [ 52.15190506] \n"
     ]
    },
    {
     "data": {
      "image/png": "[encoded data removed]",
      "text/plain": [
       "<matplotlib.figure.Figure at 0x1cafe9d4048>"
      ]
     },
     "metadata": {},
     "output_type": "display_data"
    }
   ],
   "source": [
    "# Measure loss\n",
    "loss = model.evaluate(x, y, verbose = 0)\n",
    "print('Mean Squared Eror: %s' % loss)\n",
    "# Get beta_0 and beta_1\n",
    "[beta_1, beta_0] = model.get_weights()\n",
    "beta_1 = beta_1[0] #Keras returns our beta_1 as a vector\n",
    "print(\"beta_0: %s\" % beta_0)\n",
    "print(\"beta_1: %s \" % beta_1)\n",
    "# Plotting\n",
    "y_min = beta_0 + (beta_1*np.min(x))\n",
    "y_max = beta_0 + (beta_1*np.max(x))\n",
    "plt.scatter(x, y)\n",
    "plt.xlabel('Height (m)')\n",
    "plt.ylabel('Weight (kg)')\n",
    "plt.plot([np.min(x),np.max(x)], [y_min,y_max],c='r')\n",
    "plt.show()"
   ]
  },
  {
   "cell_type": "markdown",
   "metadata": {},
   "source": [
    "Note that the loss now is different than the loss we calculated minimizing our [Least Squares Error](#error_lr). The reason is that the loss we obtained from Keras is the **Mean Squared Error**, a different than **Least Squares Error**.<p>\n",
    "Below let's calculate our Least Squared Error based on the results obtained with Keras:"
   ]
  },
  {
   "cell_type": "code",
   "execution_count": 10,
   "metadata": {},
   "outputs": [
    {
     "name": "stdout",
     "output_type": "stream",
     "text": [
      "Least Squares Eror: 22.7233261836\n"
     ]
    }
   ],
   "source": [
    "lse = np.sum(np.square(y - (beta_0 + np.multiply(beta_1,x))))\n",
    "print('Least Squares Eror: %s' % lse)"
   ]
  },
  {
   "cell_type": "markdown",
   "metadata": {},
   "source": [
    "Try to play with different epochs and see how our line parameters ($\\beta_0$ and $\\beta_1$) will improve as long as we increase the number of epochs.<p>\n",
    "If we train with 10000 epochs and 50 samples per batch, we will obtain $\\beta_0=-39.06036377$, $\\beta_1=61.27122498$ and least squares error= 7.49055857317, very similar values to ones we previously calculated, whose values were $\\beta_0=-39.0619559188$ and $\\beta_1=61.2721865421$."
   ]
  },
  {
   "cell_type": "markdown",
   "metadata": {},
   "source": [
    "<a id='gradient_descent_tensorflow'> </a>\n",
    "### Solution 3: Applying Gradient Descent (Tensorflow)\n",
    "\n",
    "I usually use tensorflow with keras. Tensorflow is a library that can be used behind Keras. \n",
    "\n",
    "Programming with tensorflow can be a paradigm change for some people. First we need to create a **graph** and run it later. One of the biggest advantages of using tensorflow is it easiness to use parallel computing, making it an easy tool to develop deep learning models efficiently in both CPUs and GPUs.\n",
    "\n",
    "Let's start importing the needed packages:"
   ]
  },
  {
   "cell_type": "code",
   "execution_count": 11,
   "metadata": {
    "collapsed": true
   },
   "outputs": [],
   "source": [
    "import tensorflow as tf\n",
    "# This is a .py file to with useful functions\n",
    "from utils import show_graph\n",
    "import matplotlib.pyplot as plt\n",
    "import os\n",
    "import numpy as np\n",
    "import pandas as pd\n",
    "import numpy.random as rand\n",
    "# To enable reproducibility\n",
    "rand.seed(26051984)"
   ]
  },
  {
   "cell_type": "markdown",
   "metadata": {},
   "source": [
    "Defining our graph:"
   ]
  },
  {
   "cell_type": "code",
   "execution_count": 12,
   "metadata": {},
   "outputs": [],
   "source": [
    "tf.reset_default_graph()\n",
    "\n",
    "# Defining variables that will be updated during training\n",
    "betas = tf.Variable(np.zeros((2,1), np.float64)) # initializing beta_0 as 0 and beta_1 as 0\n",
    "Xb = np.hstack([np.ones(shape=(15,1)), np.reshape(height, (15,1))])\n",
    "Yb = np.reshape(weight,(15,1))\n",
    "# x (input) is constant (it will never be changed)\n",
    "x_const = tf.constant(Xb)\n",
    "# y (expected output) is also a constant\n",
    "y_const = tf.constant(Yb)\n",
    "# Defining our output\n",
    "output = tf.matmul(x_const,betas)\n",
    "error = output-y_const\n",
    "mse = tf.reduce_mean(tf.square(error))\n",
    "lse = tf.reduce_sum(tf.square(error))\n",
    "optimizer = tf.train.GradientDescentOptimizer(learning_rate=0.1).minimize(mse)"
   ]
  },
  {
   "cell_type": "markdown",
   "metadata": {},
   "source": [
    "Now let's execute our graph and plot our results:"
   ]
  },
  {
   "cell_type": "code",
   "execution_count": 13,
   "metadata": {},
   "outputs": [
    {
     "name": "stdout",
     "output_type": "stream",
     "text": [
      "Epoch 0 MSE = 263.566337095 LSE = 3953.49505642\n",
      "beta_0: [-10.04116809]\n",
      "beta_1: [ 43.74828619] \n"
     ]
    }
   ],
   "source": [
    "num_epochs = 1000\n",
    "learning_rate = 0.2\n",
    "\n",
    "# Creating our session\n",
    "with tf.Session() as session:\n",
    "    # Initializing our variables\n",
    "    session.run(tf.global_variables_initializer())\n",
    "    for epoch in range(num_epochs):\n",
    "        # Run our graph\n",
    "        out = session.run(optimizer)\n",
    "        best_betas = betas.eval()\n",
    "        # Calculate error every 1000 epochs\n",
    "        if epoch % 1000 == 0:\n",
    "            print(\"Epoch %s MSE = %s LSE = %s\" %(epoch, mse.eval(), lse.eval()))\n",
    "\n",
    "            # Getting beta 0 and beta 1\n",
    "beta_0 = best_betas[0]\n",
    "beta_1 = best_betas[1]\n",
    "# Printing results\n",
    "print(\"beta_0: %s\" % beta_0)\n",
    "print(\"beta_1: %s \" % beta_1)"
   ]
  },
  {
   "cell_type": "markdown",
   "metadata": {},
   "source": [
    "Plotting results:"
   ]
  },
  {
   "cell_type": "code",
   "execution_count": 14,
   "metadata": {},
   "outputs": [
    {
     "data": {
      "image/png": "[encoded data removed]",
      "text/plain": [
       "<matplotlib.figure.Figure at 0x1cafe9d7908>"
      ]
     },
     "metadata": {},
     "output_type": "display_data"
    }
   ],
   "source": [
    "# Plotting\n",
    "x\n",
    "y_min = beta_0 + (beta_1*np.min(x))\n",
    "y_max = beta_0 + (beta_1*np.max(x))\n",
    "plt.scatter(x, y)\n",
    "plt.xlabel('Height (m)')\n",
    "plt.ylabel('Weight (kg)')\n",
    "plt.plot([np.min(x),np.max(x)], [y_min,y_max],c='r')\n",
    "plt.show()"
   ]
  },
  {
   "cell_type": "markdown",
   "metadata": {},
   "source": [
    "I encourage you to increase the number of epochs and see that the more we train, the lower the error gets and the closer to our calculated line it becomes.\n",
    "Note that if we train with 10000 epochs, we will obtain $\\beta_0=-38.98034092$, $\\beta_1=61.22290417$ and least squares error= 7.49106519944, which are similar values to our best fitting line."
   ]
  }
 ],
 "metadata": {
  "kernelspec": {
   "display_name": "Python 3",
   "language": "python",
   "name": "python3"
  },
  "language_info": {
   "codemirror_mode": {
    "name": "ipython",
    "version": 3
   },
   "file_extension": ".py",
   "mimetype": "text/x-python",
   "name": "python",
   "nbconvert_exporter": "python",
   "pygments_lexer": "ipython3",
   "version": "3.5.3"
  },
  "varInspector": {
   "cols": {
    "lenName": 16,
    "lenType": 16,
    "lenVar": 40
   },
   "kernels_config": {
    "python": {
     "delete_cmd_postfix": "",
     "delete_cmd_prefix": "del ",
     "library": "var_list.py",
     "varRefreshCmd": "print(var_dic_list())"
    },
    "r": {
     "delete_cmd_postfix": ") ",
     "delete_cmd_prefix": "rm(",
     "library": "var_list.r",
     "varRefreshCmd": "cat(var_dic_list()) "
    }
   },
   "types_to_exclude": [
    "module",
    "function",
    "builtin_function_or_method",
    "instance",
    "_Feature"
   ],
   "window_display": false
  }
 },
 "nbformat": 4,
 "nbformat_minor": 2
}
